{
 "cells": [
  {
   "cell_type": "code",
   "execution_count": 37,
   "id": "ebd5f9f1",
   "metadata": {},
   "outputs": [
    {
     "name": "stderr",
     "output_type": "stream",
     "text": [
      "[*********************100%***********************]  4 of 4 completed"
     ]
    },
    {
     "name": "stdout",
     "output_type": "stream",
     "text": [
      "Ticker            AAPL       GOOGL        MSFT         SPY\n",
      "Date                                                      \n",
      "2020-01-02   72.620850   68.026031  153.042313  300.291565\n",
      "2020-01-03   71.914818   67.670151  151.136642  298.017670\n",
      "2020-01-06   72.487854   69.473846  151.527313  299.154694\n",
      "2020-01-07   72.146927   69.339645  150.145737  298.313446\n",
      "2020-01-08   73.307510   69.833183  152.537292  299.903412\n",
      "...                ...         ...         ...         ...\n",
      "2025-06-06  203.919998  173.469986  470.380005  599.140015\n",
      "2025-06-09  201.449997  176.089996  472.750000  599.679993\n",
      "2025-06-10  202.669998  178.600006  470.920013  603.080017\n",
      "2025-06-11  198.779999  177.350006  472.619995  601.359985\n",
      "2025-06-12  199.199997  175.699997  478.869995  603.750000\n",
      "\n",
      "[1369 rows x 4 columns]\n"
     ]
    },
    {
     "name": "stderr",
     "output_type": "stream",
     "text": [
      "\n"
     ]
    }
   ],
   "source": [
    "import sys\n",
    "import os\n",
    "sys.path.append(os.path.abspath(os.path.join(\"..\")))  # just go up one level, not two\n",
    "\n",
    "from scripts.data_loader import get_price_data\n",
    "\n",
    "tickers = [\"AAPL\", \"MSFT\", \"GOOGL\", \"SPY\"]\n",
    "prices = get_price_data(tickers)\n",
    "print(prices)"
   ]
  },
  {
   "cell_type": "markdown",
   "id": "f3d1e083",
   "metadata": {},
   "source": [
    "## Save the Adjusted Close prices to a csv"
   ]
  },
  {
   "cell_type": "code",
   "execution_count": 41,
   "id": "9fec586b",
   "metadata": {},
   "outputs": [],
   "source": [
    "prices.to_csv(\"../results/adj_close.csv\")"
   ]
  },
  {
   "cell_type": "markdown",
   "id": "b201fdb9",
   "metadata": {},
   "source": [
    "### Summary\n",
    "\n",
    "- Downloaded adjusted close prices for selected tickers from Yahoo Finance\n",
    "- Saved the data to a CSV file for use in later analysis"
   ]
  }
 ],
 "metadata": {
  "kernelspec": {
   "display_name": "venv",
   "language": "python",
   "name": "python3"
  },
  "language_info": {
   "codemirror_mode": {
    "name": "ipython",
    "version": 3
   },
   "file_extension": ".py",
   "mimetype": "text/x-python",
   "name": "python",
   "nbconvert_exporter": "python",
   "pygments_lexer": "ipython3",
   "version": "3.12.2"
  }
 },
 "nbformat": 4,
 "nbformat_minor": 5
}
